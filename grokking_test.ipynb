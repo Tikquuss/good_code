{
  "cells": [
    {
      "cell_type": "markdown",
      "metadata": {
        "colab_type": "text",
        "id": "view-in-github"
      },
      "source": [
        "<a href=\"https://colab.research.google.com/github/Tikquuss/good_code/blob/main/grokking_test.ipynb\" target=\"_parent\"><img src=\"https://colab.research.google.com/assets/colab-badge.svg\" alt=\"Open In Colab\"/></a>"
      ]
    },
    {
      "cell_type": "markdown",
      "metadata": {
        "id": "8gqvYSE4A_jk"
      },
      "source": []
    },
    {
      "cell_type": "markdown",
      "metadata": {
        "id": "QPCocCjrA8k9"
      },
      "source": [
        "# Setup"
      ]
    },
    {
      "cell_type": "code",
      "execution_count": null,
      "metadata": {
        "id": "Jj6YDKWVA84K"
      },
      "outputs": [],
      "source": [
        "# %cd /content/\n",
        "#! rm -r -f /content/grokking_equations"
      ]
    },
    {
      "cell_type": "code",
      "execution_count": null,
      "metadata": {
        "id": "3vB5kz3H9qax"
      },
      "outputs": [],
      "source": [
        "#%env token=\n",
        "#! git clone https://${token}@github.com/Tikquuss/good_code grokking_equations\n",
        "\n",
        "! git clone https://github.com/Tikquuss/good_code grokking_equations"
      ]
    },
    {
      "cell_type": "code",
      "execution_count": null,
      "metadata": {
        "id": "KVsYWBXu9tmh"
      },
      "outputs": [],
      "source": [
        "##\n",
        "%cd grokking_equations"
      ]
    },
    {
      "cell_type": "code",
      "execution_count": null,
      "metadata": {
        "id": "LJE8_U6CEnH1"
      },
      "outputs": [],
      "source": [
        "! pip install -r requirements.txt"
      ]
    },
    {
      "cell_type": "markdown",
      "metadata": {
        "id": "gNhDl3dm91bp"
      },
      "source": [
        "# Model & Data"
      ]
    },
    {
      "cell_type": "code",
      "execution_count": null,
      "metadata": {
        "id": "BZCav37L09pn"
      },
      "outputs": [],
      "source": [
        "#! wandb login 27a83be2529992fa4451956a0536d35825426b45"
      ]
    },
    {
      "cell_type": "code",
      "execution_count": null,
      "metadata": {
        "id": "yp-CiEGfWp1c"
      },
      "outputs": [],
      "source": [
        "#! rm -r /content/logs"
      ]
    },
    {
      "cell_type": "code",
      "execution_count": null,
      "metadata": {
        "id": "iMDW4W1eEwn5"
      },
      "outputs": [],
      "source": [
        "\"\"\"\n",
        "max_epochs=1000\n",
        "use_wandb=False\n",
        "\"\"\"\n",
        "! chmod +x train.sh\n",
        "! . train.sh 90 +\n",
        "#! . train.sh 90 s5"
      ]
    },
    {
      "cell_type": "code",
      "execution_count": null,
      "metadata": {
        "id": "RSxILI8HWjMs"
      },
      "outputs": [],
      "source": [
        "# %env tmp=/content/logs/tdp=60-wd=1-d=0.0-opt=adamw-mlr=0.001-mo+\n",
        "# ! mv $tmp /content/logs/tdp=90-wd=1-d=0.0-opt=adamw-mlr=0.001-mo+"
      ]
    },
    {
      "cell_type": "code",
      "execution_count": null,
      "metadata": {
        "id": "cjqmIF0rKNAs"
      },
      "outputs": [],
      "source": [
        "%load_ext tensorboard\n",
        "%tensorboard --logdir /content/logs/tdp=90-wd=1-d=0.0-opt=adamw-mlr=0.001-mo+/lightning_logs\n",
        "#%tensorboard --logdir /content/logs/tdp=90-wd=1-d=0.0-opt=adamw-mlr=0.001-mos5/lightning_logs\n",
        "\n",
        "#%tensorboard --logdir /content/logs/tdp=89-wd=1-d=0.0-opt=adamw-mlr=0.001-mo+/lightning_logs"
      ]
    },
    {
      "cell_type": "code",
      "execution_count": null,
      "metadata": {
        "id": "kKBKz6C4eb5_"
      },
      "outputs": [],
      "source": [
        "##\n",
        "logdir = \"/content/logs/tdp=90-wd=1-d=0.0-opt=adamw-mlr=0.001-mo+\"\n",
        "#logdir = \"/content/logs/tdp=90-wd=1-d=0.0-opt=adamw-mlr=0.001-mos5\""
      ]
    },
    {
      "cell_type": "code",
      "execution_count": null,
      "metadata": {
        "id": "RpBzEUTzK0Nd"
      },
      "outputs": [],
      "source": [
        "##\n",
        "import re\n",
        "import os \n",
        "from loss_landscape.utils import sorted_nicely\n",
        "\n",
        "pretrained_folder = logdir + \"/checkpoints\"\n",
        "\n",
        "#pattern = '^epoch_[0-9]+.ckpt$'\n",
        "pattern = '^epoch=[0-9]+-val_accuracy=[0-9]+\\.[0-9]+.ckpt$'\n",
        "\n",
        "model_files = os.listdir(pretrained_folder)\n",
        "model_files = [f for f in model_files if re.match(pattern, f)]\n",
        "model_files = sorted_nicely(model_files)\n",
        "model_files = [\"init.ckpt\"] + model_files\n",
        "model_files = [pretrained_folder + \"/\" + f for f in model_files]\n",
        "\n",
        "model_files[-10:]"
      ]
    },
    {
      "cell_type": "code",
      "execution_count": null,
      "metadata": {
        "id": "EqRwuGcSeQT3"
      },
      "outputs": [],
      "source": [
        "##\n",
        "import torch\n",
        "hparams = torch.load(logdir + \"/hparams.pt\")\n",
        "data_module = torch.load(logdir+\"/data.pt\")\n",
        "states = torch.load(logdir+\"/states.pt\")\n",
        "\n",
        "states"
      ]
    },
    {
      "cell_type": "code",
      "execution_count": null,
      "metadata": {
        "id": "2ujktjGpDu_k"
      },
      "outputs": [],
      "source": [
        "states = {'grok': 1,\n",
        " 'comprehension': 1,\n",
        " 'memorization': 0,\n",
        " 'confusion': 0,\n",
        " 'pre_comp_epoch': 253,\n",
        " 'pre_memo_epoch': 190,\n",
        " 'comp_epoch': 481,\n",
        " 'memo_epoch': 394}"
      ]
    },
    {
      "cell_type": "code",
      "execution_count": null,
      "metadata": {
        "id": "KC96B_FeML-R"
      },
      "outputs": [],
      "source": [
        "##\n",
        "from src.modeling import TrainableTransformer\n",
        "from src.dataset import DataModule\n",
        "\n",
        "lightning_module_class = TrainableTransformer"
      ]
    },
    {
      "cell_type": "code",
      "execution_count": null,
      "metadata": {
        "id": "NU1LlNDIHEt3"
      },
      "outputs": [],
      "source": [
        "# model = TrainableTransformer(hparams).float()\n",
        "model = TrainableTransformer.load_from_checkpoint(hparams = hparams, checkpoint_path = model_files[0]).float()\n",
        "\n",
        "#model\n",
        "\n",
        "model.set_states(states)\n",
        "print(model.states)\n",
        "\n",
        "print(model.is_grok(delay=10), model.is_grok(delay=100))\n",
        "\n",
        "diff_epoch = model.comp_epoch - model.memo_epoch\n",
        "print(diff_epoch)"
      ]
    },
    {
      "cell_type": "code",
      "execution_count": null,
      "metadata": {
        "id": "r29BsKwxNzDa"
      },
      "outputs": [],
      "source": [
        "###\n",
        "phases_k = ['pre_memo_epoch', 'pre_comp_epoch', 'memo_epoch', 'comp_epoch']\n",
        "phases = [states[k] for k in phases_k]\n",
        "print(phases)"
      ]
    },
    {
      "cell_type": "code",
      "execution_count": null,
      "metadata": {
        "id": "wiVK0IdPNbS7"
      },
      "outputs": [],
      "source": [
        "good_epochs = []\n",
        "# start\n",
        "for k in [2, 100, 200] : good_epochs.extend([k-1, k, k+1])\n",
        "# phases\n",
        "for p in phases : good_epochs.extend([p-1, p, p+1])\n",
        "# slingshot\n",
        "for k in [450, 578, 765] : good_epochs.extend([k-1, k, k+1])\n",
        "# end\n",
        "for k in [600, 700] : good_epochs.extend([k-1, k, k+1])\n",
        "####\n",
        "print(len(good_epochs), good_epochs)"
      ]
    },
    {
      "cell_type": "markdown",
      "metadata": {
        "id": "QstyLBY5zvjx"
      },
      "source": [
        "\n",
        "\n",
        "---\n",
        "\n"
      ]
    },
    {
      "cell_type": "markdown",
      "metadata": {
        "id": "RN6QeFzISPny"
      },
      "source": [
        "# loss-landscape"
      ]
    },
    {
      "cell_type": "code",
      "execution_count": null,
      "metadata": {
        "id": "tVEF3I7MfgXU"
      },
      "outputs": [],
      "source": [
        "##\n",
        "from loss_landscape.utils import AttrDict, images_to_vidoe, sorted_nicely"
      ]
    },
    {
      "cell_type": "code",
      "execution_count": null,
      "metadata": {
        "id": "01av-mEFGWFK"
      },
      "outputs": [],
      "source": [
        "import shutil\n",
        "\n",
        "for f in os.listdir(pretrained_folder) :\n",
        "    ff = pretrained_folder + \"/\" + f\n",
        "    if ff not in model_files :\n",
        "        print(f)\n",
        "        try : os.remove(ff)\n",
        "        except IsADirectoryError : shutil.rmtree(ff)"
      ]
    },
    {
      "cell_type": "markdown",
      "metadata": {
        "id": "HbQZNv3ybMwq"
      },
      "source": [
        "## modifications"
      ]
    },
    {
      "cell_type": "code",
      "execution_count": null,
      "metadata": {
        "id": "J-YH0pp4H8WT"
      },
      "outputs": [],
      "source": [
        "# model_loader.py\n",
        "logdir = \"/content/logs/tdp=90-wd=1-d=0.0-opt=adamw-mlr=0.001-mo+\"\n",
        "#logdir = \"/content/logs/tdp=90-wd=1-d=0.0-opt=adamw-mlr=0.001-mos5\"\n",
        "\n",
        "hparams.use_wandb = False"
      ]
    },
    {
      "cell_type": "markdown",
      "metadata": {
        "id": "U1fYuDOTZ9br"
      },
      "source": [
        "## cosine sim"
      ]
    },
    {
      "cell_type": "code",
      "execution_count": null,
      "metadata": {
        "id": "tbhnjh9N0hBl"
      },
      "outputs": [],
      "source": [
        "#! python cosine_sim.py"
      ]
    },
    {
      "cell_type": "code",
      "execution_count": null,
      "metadata": {
        "id": "zvJtCkeuSBCT"
      },
      "outputs": [],
      "source": [
        "from loss_landscape.cosine_sim import consine_sim_weights_states, consine_sim_vec, consine_sim_vec_from_point#, plot_cosine_sim\n",
        "from typing import Dict, List\n",
        "from cosine_sim import plot_cosine_sim"
      ]
    },
    {
      "cell_type": "code",
      "execution_count": null,
      "metadata": {
        "id": "3H7nzVsLf5hU"
      },
      "outputs": [],
      "source": [
        "selected_epochs = list(range(0, 600+1, 1))\n",
        "tmp_model_files = [model_files[e] for e in selected_epochs]\n",
        "len(tmp_model_files)"
      ]
    },
    {
      "cell_type": "code",
      "execution_count": null,
      "metadata": {
        "id": "tX5E3n1bbcZe"
      },
      "outputs": [],
      "source": [
        "dir_type = 'weights'\n",
        "#dir_type = 'states'\n",
        "\n",
        "#ignore = 'biasbn'\n",
        "ignore = ''\n",
        "\n",
        "angles1 = consine_sim_weights_states(tmp_model_files, dir_type, ignore, lightning_module_class)"
      ]
    },
    {
      "cell_type": "code",
      "execution_count": null,
      "metadata": {
        "id": "ttKJjsUZb3TQ"
      },
      "outputs": [],
      "source": [
        "angles2 = consine_sim_vec(tmp_model_files, lightning_module_class) "
      ]
    },
    {
      "cell_type": "code",
      "execution_count": null,
      "metadata": {
        "id": "D7BcxYqgkodC"
      },
      "outputs": [],
      "source": [
        "angles3 = consine_sim_vec_from_point(model_files[0], tmp_model_files, lightning_module_class) "
      ]
    },
    {
      "cell_type": "code",
      "execution_count": null,
      "metadata": {
        "id": "nPeSVPm2SstM"
      },
      "outputs": [],
      "source": [
        "phases_k = ['pre_memo_epoch', 'pre_comp_epoch', 'memo_epoch', 'comp_epoch']\n",
        "\n",
        "plot_cosine_sim(\n",
        "    angles = [\n",
        "        {\"angles\" : angles1, \"label\" : \"cos_%s (θ_{i+1}, θ_{i})\"%dir_type, \"epochs\" : selected_epochs[:-1]},\n",
        "        #{\"angles\" : angles2, \"label\" : \"cos(θ_{i+1}, θ_{i})\", \"epochs\" : selected_epochs[:-1]},\n",
        "        {\"angles\" : angles3, \"label\" : \"cos(theta_{i}, theta_0)\", \"epochs\" : selected_epochs},\n",
        "    ],\n",
        "    ylabel=\"consine similarity\", \n",
        "    phases = { k : states[k] for k in phases_k}, \n",
        "    save_to = \"/content/angles.png\"\n",
        ")"
      ]
    },
    {
      "cell_type": "markdown",
      "metadata": {
        "id": "HAaytxJtGyk7"
      },
      "source": [
        "## plot_surface"
      ]
    },
    {
      "cell_type": "code",
      "execution_count": null,
      "metadata": {
        "id": "wKhCcTn2f67A"
      },
      "outputs": [],
      "source": [
        "#model_files[-1]"
      ]
    },
    {
      "cell_type": "code",
      "execution_count": null,
      "metadata": {
        "id": "E6Qbmpkofwo0"
      },
      "outputs": [],
      "source": [
        "# %env model_file=/content/logs/tdp=90-wd=1-d=0.0-opt=adamw-mlr=0.001-mo+/checkpoints/epoch=699-val_accuracy=99.7875.ckpt\n",
        "# ! python plot_surface.py --model_file $model_file"
      ]
    },
    {
      "cell_type": "code",
      "execution_count": null,
      "metadata": {
        "id": "AGjMhkUUfZP3"
      },
      "outputs": [],
      "source": [
        "# for f in os.listdir(pretrained_folder) :\n",
        "#     ff = pretrained_folder + \"/\" + f\n",
        "#     if ff not in model_files :\n",
        "#         print(ff)"
      ]
    },
    {
      "cell_type": "code",
      "execution_count": null,
      "metadata": {
        "id": "zZPW8dcjfg3t"
      },
      "outputs": [],
      "source": [
        "# %env surf_file=/content/logs/tdp=90-wd=1-d=0.0-opt=adamw-mlr=0.001-mo+/checkpoints/epoch=699-val_accuracy=99.7875.ckpt_weights.h5_[-1.0,1.0,51].h5\n",
        "# ! python loss_landscape/plot_1D.py --surf_file $surf_file --show"
      ]
    },
    {
      "cell_type": "code",
      "execution_count": null,
      "metadata": {
        "id": "LTRGyG1_TImy"
      },
      "outputs": [],
      "source": [
        "from loss_landscape.plot_surface import plot_surface"
      ]
    },
    {
      "cell_type": "code",
      "execution_count": null,
      "metadata": {
        "id": "1X4yqRSJUBZr"
      },
      "outputs": [],
      "source": [
        "args = AttrDict({ \n",
        "    \n",
        "    'mpi' : False, # use mpi\n",
        "    'cuda' : True, # use cuda\n",
        "    'threads' : 2, # 'number of threads'\n",
        "    'ngpu' : 1, # 'number of GPUs to use for each rank, useful for data parallel evaluation\n",
        "\n",
        "    # data parameters\n",
        "\n",
        "    'raw_data' :False, # 'no data preprocessing'\n",
        "    'data_split' : 1, #'the number of splits for the dataloader'\n",
        "    'split_idx' : 0, # 'the index of data splits for the dataloader'\n",
        "\n",
        "    # model parameters\n",
        "    \n",
        "    # parser.add_argument('--model', default='resnet56', help='model name')\n",
        "    # parser.add_argument('--model_folder', default='', help='the common folder that contains model_file and model_file2')\n",
        "    'model_file' : model_files[0], # path to the trained model file\n",
        "    #'model_file2' : model_files[-1], # use (model_file2 - model_file) as the xdirection\n",
        "    'model_file2' : \"\", # use (model_file2 - model_file) as the xdirection\n",
        "    'model_file3' : \"\", # use (model_file3 - model_file) as the ydirection\n",
        "    #'loss_name' : 'crossentropy', # help='loss functions: crossentropy | mse')\n",
        "\n",
        "    # direction parameters\n",
        "\n",
        "    'dir_file' : '',  # 'specify the name of direction file, or the path to an eisting direction file\n",
        "    'dir_type' : 'weights', #'direction type: weights | states (including BN\\'s running_mean/var)'\n",
        "    'x' : '-1:1:51', #'A string with format xmin:x_max:xnum'\n",
        "    'y' : None, #'A string with format ymin:ymax:ynum'\n",
        "    #'y' : '-1:1:51', #'A string with format ymin:ymax:ynum'\n",
        "    'xnorm' : '', # 'direction normalization: filter | layer | weight'\n",
        "    'ynorm' : '', # 'direction normalization: filter | layer | weight'\n",
        "    'xignore' : '', #'ignore bias and BN parameters: biasbn'\n",
        "    'yignore' : '', #'ignore bias and BN parameters: biasbn'\n",
        "    'same_dir' : False, # 'use the same random direction for both x-axis and y-axis'\n",
        "    'idx' : 0, # 'the index for the repeatness experiment')\n",
        "    'surf_file' : '', # 'customize the name of surface file, could be an existing file.'\n",
        "\n",
        "    # plot parameters\n",
        "\n",
        "    'proj_file' : '', # 'the .h5 file contains projected optimization trajectory.'\n",
        "    'loss_max' : None, # 'Maximum value to show in 1D plot'\n",
        "    'acc_max' :None, # 'ymax value (accuracy)')\n",
        "    'vmax' : 10, # 'Maximum value to map'\n",
        "    'vmin' : 0.1, # 'Miminum value to map'\n",
        "    'vlevel' : 0.5, # 'plot contours every vlevel'\n",
        "    'show' : True, # 'show plotted figures'\n",
        "    'log' : False, # 'use log scale for loss values'\n",
        "    'plot' : True, # 'plot figures after computation'\n",
        "})"
      ]
    },
    {
      "cell_type": "code",
      "execution_count": null,
      "metadata": {
        "id": "h2m9a-MqYThT"
      },
      "outputs": [],
      "source": [
        "args.dir_type='weights'\n",
        "#args.dir_type='states'\n",
        "\n",
        "#args.xnorm=\"filter\"\n",
        "#args.xnorm=\"layer\"\n",
        "#args.xnorm=\"weight\"\n",
        "\n",
        "args.threads = 4"
      ]
    },
    {
      "cell_type": "markdown",
      "metadata": {
        "id": "hE9pTwvn3ejW"
      },
      "source": [
        "### line"
      ]
    },
    {
      "cell_type": "code",
      "execution_count": null,
      "metadata": {
        "id": "IMPy4dkKnJpB"
      },
      "outputs": [],
      "source": [
        "# args.model_file = model_files[-1]\n",
        "# #args.model_file2 = \"\"\n",
        "# #args.model_file2 = model_files[epoch-1]\n",
        "# args.model_file2 =  model_files[0]\n",
        "\n",
        "# args.x='-6:3:200'\n",
        "# args.y=''\n",
        "# dir_file, surf_file = plot_surface(\n",
        "#         args, lightning_module_class, metrics = ['val_loss', 'val_accuracy'],\n",
        "#         train_dataloader = data_module.train_dataloader(), \n",
        "#         test_dataloader = data_module.val_dataloader(),\n",
        "#         save_to = f\"/content/begin_end\"\n",
        "#     )"
      ]
    },
    {
      "cell_type": "code",
      "execution_count": null,
      "metadata": {
        "id": "FVTVNmadtQxL"
      },
      "outputs": [],
      "source": [
        "phases"
      ]
    },
    {
      "cell_type": "code",
      "execution_count": null,
      "metadata": {
        "id": "rZCTkRRyOBjq"
      },
      "outputs": [],
      "source": [
        "selected_epochs = good_epochs + []\n",
        "print(len(selected_epochs), selected_epochs)"
      ]
    },
    {
      "cell_type": "code",
      "execution_count": null,
      "metadata": {
        "id": "V3sGR7mNOKTI"
      },
      "outputs": [],
      "source": [
        "for k in list(range(0, 150+1, 50)) + list(range(150, 750+1, 50)) : selected_epochs.extend([k-1, k, k+1])\n",
        "len(selected_epochs)"
      ]
    },
    {
      "cell_type": "code",
      "execution_count": null,
      "metadata": {
        "id": "S3Sm9uDtOWBO"
      },
      "outputs": [],
      "source": [
        "#selected_epochs += good_epochs \n",
        "selected_epochs = sorted(list(dict.fromkeys(selected_epochs)))\n",
        "len(selected_epochs)"
      ]
    },
    {
      "cell_type": "code",
      "execution_count": null,
      "metadata": {
        "id": "aEDOyfbjUayE"
      },
      "outputs": [],
      "source": [
        "# selected_epochs = [s for s in selected_epochs if s > 500]\n",
        "# len(selected_epochs)"
      ]
    },
    {
      "cell_type": "code",
      "execution_count": null,
      "metadata": {
        "id": "b98L2fTqhqvr"
      },
      "outputs": [],
      "source": [
        "save_to = \"/content/surfaces_rand_dir\"\n",
        "os.makedirs(save_to, exist_ok=True)\n",
        "\n",
        "#import shutil\n",
        "#shutil.rmtree(save_to)"
      ]
    },
    {
      "cell_type": "code",
      "execution_count": null,
      "metadata": {
        "id": "G_dEqtxt56oE"
      },
      "outputs": [],
      "source": [
        "dir_files, surf_files = {}, {}\n",
        "\n",
        "#for epoch in [0, -1] :\n",
        "#for epoch in [0, 1] :\n",
        "for epoch in [1, 500] : # selected_epochs :\n",
        "    args.model_file = model_files[epoch]\n",
        "    args.model_file2 = \"\"\n",
        "    #args.model_file2 = model_files[epoch-1]\n",
        "    #args.model_file2 =  model_files[epoch+1]\n",
        "    #args.model_file2 =  model_files[0]\n",
        "    #args.model_file2 =  model_files[-1]\n",
        "\n",
        "    #args.x='-2:2:41'\n",
        "    args.x='-1.5:5.5:100'\n",
        "    args.y=''\n",
        "    dir_files[epoch], surf_files[epoch] = plot_surface(\n",
        "        args, lightning_module_class, metrics = ['val_loss', 'val_accuracy'],\n",
        "        train_dataloader = data_module.train_dataloader(), \n",
        "        test_dataloader = data_module.val_dataloader(),\n",
        "        save_to = f\"{save_to}/{epoch}\"\n",
        "    )"
      ]
    },
    {
      "cell_type": "code",
      "execution_count": null,
      "metadata": {
        "id": "dYWhSgdPUvps"
      },
      "outputs": [],
      "source": [
        "import re\n",
        "import os \n",
        "\n",
        "pattern = '^[0-9]+_1d_loss_acc.png$'\n",
        "\n",
        "images_files = os.listdir(save_to)\n",
        "images_files = [f for f in images_files if re.match(pattern, f)]\n",
        "images_files= sorted_nicely(images_files)\n",
        "images_files = [save_to + \"/\" + f for f in images_files]\n",
        "\n",
        "images_files[-10:]"
      ]
    },
    {
      "cell_type": "code",
      "execution_count": null,
      "metadata": {
        "id": "nTNXNzKqUZzM"
      },
      "outputs": [],
      "source": [
        "images_to_vidoe(\n",
        "    video_path = \"/content/rand.avi\", \n",
        "    images_files = images_files#[:10]\n",
        ")"
      ]
    },
    {
      "cell_type": "code",
      "execution_count": null,
      "metadata": {
        "id": "gBtMhpI3bdSw"
      },
      "outputs": [],
      "source": [
        "import os\n",
        "processed_path=\"/content/surfaces_rand_dir\"\n",
        "\n",
        "for repertoire, dossiers, fichiers in os.walk(processed_path):\n",
        "  for fichier in fichiers:\n",
        "    if (not 'loss_acc' in fichier) or (not fichier.endswith(\".png\")) :\n",
        "      filepath = os.path.join(repertoire, fichier)\n",
        "      try:\n",
        "        os.remove(filepath)\n",
        "      except OSError as e:\n",
        "          print(e)\n",
        "      else:\n",
        "          print(\"File \" + filepath + \" is deleted successfully\")"
      ]
    },
    {
      "cell_type": "code",
      "execution_count": null,
      "metadata": {
        "id": "7T_AcEiUbgP0"
      },
      "outputs": [],
      "source": [
        "! zip -r /content/surfaces_rand_dir.zip /content/surfaces_rand_dir"
      ]
    },
    {
      "cell_type": "code",
      "execution_count": null,
      "metadata": {
        "id": "-9Zf8rprkbw0"
      },
      "outputs": [],
      "source": [
        "# #! rm /content/logs/tdp=90-wd=1-d=0.0-opt=adamw-mlr=0.001-mo+/checkpoints/init.ckpt_weights.h5\n",
        "# #! rm /content/logs/tdp=90-wd=1-d=0.0-opt=adamw-mlr=0.001-mo+/checkpoints/init.ckpt_weights.h5_[-1.0,1.0,51].h5\n",
        "\n",
        "# os.remove(dir_file1)\n",
        "# os.remove(surf_file1)"
      ]
    },
    {
      "cell_type": "markdown",
      "metadata": {
        "id": "vooO94Mx_B4r"
      },
      "source": [
        "### surface "
      ]
    },
    {
      "cell_type": "code",
      "execution_count": null,
      "metadata": {
        "id": "hZYcBNB4hWR1"
      },
      "outputs": [],
      "source": [
        "args.model_file = model_files[-1]\n",
        "args.model_file2 = \"\"\n",
        "\n",
        "#args.x='-1:1:51'\n",
        "#args.y='-1:1:51'\n",
        "\n",
        "#args.x='-1:1:10'\n",
        "#args.y='-1:1:10'\n",
        "\n",
        "#args.x='-5:5:100'\n",
        "#args.y='-5:5:100'\n",
        "\n",
        "args.x='-5:5:50'\n",
        "args.y='-5:5:50'\n",
        "\n",
        "dir_file4, surf_file4 = dir_file3, surf_file3 = plot_surface(\n",
        "        args, lightning_module_class, metrics = ['val_loss', 'val_accuracy'],\n",
        "        train_dataloader = data_module.train_dataloader(), \n",
        "        test_dataloader = data_module.val_dataloader(),\n",
        "        #save_to = f\"{save_to}/{epoch}\"\n",
        "    )"
      ]
    },
    {
      "cell_type": "code",
      "execution_count": null,
      "metadata": {
        "id": "L9Vtcu1FzZ-k"
      },
      "outputs": [],
      "source": [
        "print(dir_file4)\n",
        "print(surf_file4)"
      ]
    },
    {
      "cell_type": "code",
      "execution_count": null,
      "metadata": {
        "id": "5L-Nr6cm9a8M"
      },
      "outputs": [],
      "source": [
        "%env dir_file=/content/logs/tdp=90-wd=1-d=0.0-opt=adamw-mlr=0.001-mo+/checkpoints/epoch=6661-val_accuracy=50.0000.ckpt_weights.h5\n",
        "%env surf_file=/content/logs/tdp=90-wd=1-d=0.0-opt=adamw-mlr=0.001-mo+/checkpoints/epoch=6661-val_accuracy=50.0000.ckpt_weights.h5_[-5.0,5.0,50]x[-5.0,5.0,50].h5"
      ]
    },
    {
      "cell_type": "code",
      "execution_count": null,
      "metadata": {
        "id": "rrI70gUlwciH"
      },
      "outputs": [],
      "source": [
        "#%env dir_file=/content/logs/tdp=90-wd=1-d=0.0-opt=adamw-mlr=0.001-mo+/checkpoints/epoch=699-val_accuracy=99.7875.ckpt_weights.h5\n",
        "#%env surf_file=/content/logs/tdp=90-wd=1-d=0.0-opt=adamw-mlr=0.001-mo+/checkpoints/epoch=699-val_accuracy=99.7875.ckpt_weights.h5_[-1.0,1.0,21]x[-1.0,1.0,21].h5\n",
        "! python loss_landscape/plot_2D.py --surf_file $surf_file --dir_file $dir_file --surf_name train_loss"
      ]
    },
    {
      "cell_type": "code",
      "execution_count": null,
      "metadata": {
        "id": "Y4PuL_lv0MT2"
      },
      "outputs": [],
      "source": [
        "# %env tmp=/content/logs/tdp=90-wd=1-d=0.0-opt=adamw-mlr=0.001-mo+/checkpoints/epoch=6661-val_accuracy=50.0000.ckpt_weights.h5_[-1.0,1.0,10]x[-1.0,1.0,10].h5_train_loss_2dcontourf.pdf\n",
        "# ! cp $tmp /content/contour1.pdf\n",
        "\n",
        "%%bash\n",
        "tmp=/content/logs/tdp=90-wd=1-d=0.0-opt=adamw-mlr=0.001-mo+/checkpoints/epoch=6661-val_accuracy=50.0000.ckpt_weights.h5_[-5.0,5.0,50]x[-5.0,5.0,50].h5_train_loss_2dcontourf.pdf\n",
        "cp $tmp /content/contour1.pdf"
      ]
    },
    {
      "cell_type": "code",
      "execution_count": null,
      "metadata": {
        "id": "noE7kQMUwx7D"
      },
      "outputs": [],
      "source": [
        "! python loss_landscape/h52vtp.py --surf_file $surf_file --surf_name train_loss --zmax  10 --log"
      ]
    },
    {
      "cell_type": "code",
      "execution_count": null,
      "metadata": {
        "id": "TOh1GlrPvo3n"
      },
      "outputs": [],
      "source": [
        "#%env tmp=/content/logs/tdp=90-wd=1-d=0.0-opt=adamw-mlr=0.001-mo+/checkpoints/epoch=6661-val_accuracy=50.0000.ckpt_weights.h5_[-1.0,1.0,10]x[-1.0,1.0,10].h5_train_loss_zmax=10.0_log.vtp\n",
        "#! cp $tmp /content/test.vtp\n",
        "\n",
        "%%bash\n",
        "tmp=/content/logs/tdp=90-wd=1-d=0.0-opt=adamw-mlr=0.001-mo+/checkpoints/epoch=6661-val_accuracy=50.0000.ckpt_weights.h5_[-5.0,5.0,50]x[-5.0,5.0,50].h5_train_loss_zmax=10.0_log.vtp\n",
        "cp $tmp /content/test.vtp"
      ]
    },
    {
      "cell_type": "markdown",
      "metadata": {
        "id": "p3Z8WTetUGgt"
      },
      "source": [
        "## plot_trajectory"
      ]
    },
    {
      "cell_type": "code",
      "execution_count": null,
      "metadata": {
        "id": "zxBMYlhyf1-2"
      },
      "outputs": [],
      "source": [
        "# ! python plot_trajectory.py"
      ]
    },
    {
      "cell_type": "code",
      "execution_count": null,
      "metadata": {
        "id": "43h41VOiUIPh"
      },
      "outputs": [],
      "source": [
        "from loss_landscape.plot_trajectory import plot_trajectory"
      ]
    },
    {
      "cell_type": "code",
      "execution_count": null,
      "metadata": {
        "id": "7gYXwSYEUPkB"
      },
      "outputs": [],
      "source": [
        "args = AttrDict({ \n",
        "    'model_folder' : pretrained_folder, # 'folders for models to be projected'\n",
        "    'dir_type' : 'weights', #\"\"\"direction type: weights (all weights except bias and BN paras) states (include BN.running_mean/var)\"\"\")\n",
        "    'ignore' : '', # 'ignore bias and BN paras: biasbn (no bias or bn)')'\n",
        "    'save_epoch' : 1, # 'save models every few epochs')\n",
        "\n",
        "    'dir_file' : '', #'load the direction file for projection')\n",
        "})"
      ]
    },
    {
      "cell_type": "code",
      "execution_count": null,
      "metadata": {
        "id": "LJbicpS_USEP"
      },
      "outputs": [],
      "source": [
        "#os.remove(\"/content/log_files/0/classification_1/PCA_weights_save_epoch=1/directions.h5_proj_cos.h5\")"
      ]
    },
    {
      "cell_type": "code",
      "execution_count": null,
      "metadata": {
        "id": "cdlwILTAUTzB"
      },
      "outputs": [],
      "source": [
        "proj_file_, dir_file_ = plot_trajectory(args, model_files, lightning_module_class)"
      ]
    },
    {
      "cell_type": "code",
      "execution_count": null,
      "metadata": {
        "id": "ejyrcd9U24Rg"
      },
      "outputs": [],
      "source": [
        "print(proj_file_)\n",
        "print(dir_file_)"
      ]
    },
    {
      "cell_type": "code",
      "execution_count": null,
      "metadata": {
        "id": "cpTDwkjCJzW9"
      },
      "outputs": [],
      "source": [
        "import shutil\n",
        "\n",
        "for f in os.listdir(pretrained_folder) :\n",
        "    ff = pretrained_folder + \"/\" + f\n",
        "    if ff not in model_files :\n",
        "        print(ff)"
      ]
    },
    {
      "cell_type": "code",
      "execution_count": null,
      "metadata": {
        "id": "N8KgNtN3LZYN"
      },
      "outputs": [],
      "source": [
        "import shutil\n",
        "\n",
        "pp = pretrained_folder + \"/PCA_weights_save_epoch=1\"\n",
        "for f in os.listdir(pp) :\n",
        "    ff = pp + \"/\" + f\n",
        "    if ff not in model_files :\n",
        "        print(ff)"
      ]
    },
    {
      "cell_type": "code",
      "execution_count": null,
      "metadata": {
        "id": "uTvA9njW29mA"
      },
      "outputs": [],
      "source": [
        "#%env surf_file=\n",
        "%env dir_file=/content/logs/tdp=90-wd=1-d=0.0-opt=adamw-mlr=0.001-mo+/checkpoints/PCA_weights_save_epoch=1/directions.h5\n",
        "%env proj_file=/content/logs/tdp=90-wd=1-d=0.0-opt=adamw-mlr=0.001-mo+/checkpoints/PCA_weights_save_epoch=1/directions.h5_proj_cos.h5\n",
        "! python loss_landscape/plot_2D.py --surf_file $surf_file --dir_file $dir_file --proj_file $proj_file --surf_name train_loss\n",
        "#! python loss_landscape/plot_2D.py --dir_file $dir_file --proj_file $proj_file --surf_name train_loss"
      ]
    },
    {
      "cell_type": "code",
      "execution_count": null,
      "metadata": {
        "id": "75rxaZijGQxd"
      },
      "outputs": [],
      "source": [
        "import shutil\n",
        "\n",
        "pp = pretrained_folder + \"/PCA_weights_save_epoch=1\"\n",
        "for f in os.listdir(pp) :\n",
        "    ff = pp + \"/\" + f\n",
        "    if ff not in model_files :\n",
        "        print(ff)"
      ]
    },
    {
      "cell_type": "code",
      "execution_count": null,
      "metadata": {
        "id": "2mNdRRudGWay"
      },
      "outputs": [],
      "source": [
        "%env filename=/content/logs/tdp=90-wd=1-d=0.0-opt=adamw-mlr=0.001-mo+/checkpoints/PCA_weights_save_epoch=1/directions.h5_proj_cos.h5_train_loss_2dcontour_proj.png\n",
        "! cp $filename /content/test_traj.png"
      ]
    },
    {
      "cell_type": "markdown",
      "metadata": {
        "id": "0op2vbdbUnad"
      },
      "source": [
        "## plot_hessian_eigen"
      ]
    },
    {
      "cell_type": "markdown",
      "metadata": {
        "id": "66oBodRpQZJf"
      },
      "source": [
        "### hessian_eigen"
      ]
    },
    {
      "cell_type": "code",
      "execution_count": null,
      "metadata": {
        "id": "0ccWh6ppKPTM"
      },
      "outputs": [],
      "source": [
        "#model_files[-1]"
      ]
    },
    {
      "cell_type": "code",
      "execution_count": null,
      "metadata": {
        "id": "8S54qBL3f7uj"
      },
      "outputs": [],
      "source": [
        "# %env model_file=/content/logs/tdp=90-wd=1-d=0.0-opt=adamw-mlr=0.001-mo+/checkpoints/epoch=118-val_accuracy=0.5313.ckpt\n",
        "# ! python plot_hessian_eigen.py --model_file $model_file"
      ]
    },
    {
      "cell_type": "code",
      "execution_count": null,
      "metadata": {
        "id": "5_NeG-o1Uo3L"
      },
      "outputs": [],
      "source": [
        "from loss_landscape.plot_hessian_eigen import plot_hessian_eigen, get_loss"
      ]
    },
    {
      "cell_type": "code",
      "execution_count": null,
      "metadata": {
        "id": "RjKCh_dGUsEM"
      },
      "outputs": [],
      "source": [
        "args = AttrDict({ \n",
        "    \n",
        "    'mpi' : True, # use mpi\n",
        "    'cuda' : False, # use cuda\n",
        "    'threads' : 2, # 'number of threads'\n",
        "    'ngpu' : 1, # 'number of GPUs to use for each rank, useful for data parallel evaluation\n",
        "\n",
        "    # data parameters\n",
        "\n",
        "    'raw_data' :False, # 'no data preprocessing'\n",
        "    'data_split' : 1, #'the number of splits for the dataloader')\n",
        "    'split_idx' : 0, # 'the index of data splits for the dataloader'\n",
        "\n",
        "    # model parameters\n",
        "    \n",
        "    # parser.add_argument('--model', default='resnet56', help='model name')\n",
        "    # parser.add_argument('--model_folder', default='', help='the common folder that contains model_file and model_file2')\n",
        "    'model_file' : model_files[0], # path to the trained model file\n",
        "    'model_file2' : \"\", # use (model_file2 - model_file) as the xdirection\n",
        "    'model_file3' : \"\", # use (model_file3 - model_file) as the ydirection\n",
        "    #'loss_name' : 'crossentropy', # help='loss functions: crossentropy | mse')\n",
        "\n",
        "    # direction parameters\n",
        "\n",
        "    'dir_file' : '',  # 'specify the name of direction file, or the path to an eisting direction file\n",
        "    'dir_type' : 'weights', #'direction type: weights | states (including BN\\'s running_mean/var)'\n",
        "    'x' : '-1:1:51', #'A string with format xmin:x_max:xnum'\n",
        "    'y' : None, #'A string with format ymin:ymax:ynum'\n",
        "    #'y' : '-1:1:51', #'A string with format ymin:ymax:ynum'\n",
        "    'xnorm' : '', # 'direction normalization: filter | layer | weight'\n",
        "    'ynorm' : '', # 'direction normalization: filter | layer | weight'\n",
        "    'xignore' : '', #'ignore bias and BN parameters: biasbn'\n",
        "    'yignore' : '', #'ignore bias and BN parameters: biasbn'\n",
        "    'same_dir' : False, # 'use the same random direction for both x-axis and y-axis'\n",
        "    'idx' : 0, # 'the index for the repeatness experiment')\n",
        "    'surf_file' : '', # 'customize the name of surface file, could be an existing file.'\n",
        "\n",
        "    # plot parameters\n",
        "\n",
        "    'show' : True, # help='show plotted figures')\n",
        "    'plot' : True, #  help='plot figures after computation')\n",
        "})"
      ]
    },
    {
      "cell_type": "code",
      "execution_count": null,
      "metadata": {
        "id": "yJzo9jnBVoRU"
      },
      "outputs": [],
      "source": [
        "if True :\n",
        "    dataloader = data_module.train_dataloader()\n",
        "    data_size = len(data_module.train_dataset)\n",
        "else :\n",
        "    dataloader = data_module.val_dataloader()\n",
        "    data_size = len(data_module.val_dataset)"
      ]
    },
    {
      "cell_type": "markdown",
      "metadata": {
        "id": "8RPa1XSwUyBL"
      },
      "source": []
    },
    {
      "cell_type": "code",
      "execution_count": null,
      "metadata": {
        "id": "_Nmml8sBXk8d"
      },
      "outputs": [],
      "source": [
        "#os.remove(dir_file)\n",
        "#os.remove(surf_file)"
      ]
    },
    {
      "cell_type": "code",
      "execution_count": null,
      "metadata": {
        "id": "_7Ezo12BIlpC"
      },
      "outputs": [],
      "source": [
        "args.model_file = model_files[-1]\n",
        "args.model_file2 = \"\"\n",
        "\n",
        "args.x='-1:1:51'\n",
        "args.y=''"
      ]
    },
    {
      "cell_type": "code",
      "execution_count": null,
      "metadata": {
        "id": "v8ikriSSV4LN"
      },
      "outputs": [],
      "source": [
        "dir_file, surf_file = plot_hessian_eigen(args, lightning_module_class, dataloader, data_size, get_loss)"
      ]
    },
    {
      "cell_type": "markdown",
      "metadata": {
        "id": "GMADDkHQ_n40"
      },
      "source": [
        "### eigs_models"
      ]
    },
    {
      "cell_type": "code",
      "execution_count": null,
      "metadata": {
        "id": "ibWjdUza_r6Z"
      },
      "outputs": [],
      "source": [
        "import matplotlib.pyplot as plt\n",
        "from loss_landscape.plot_hessian_eigen import plot_hessian_eigen_models, get_loss"
      ]
    },
    {
      "cell_type": "code",
      "execution_count": null,
      "metadata": {
        "id": "kWXthJ7MEprf"
      },
      "outputs": [],
      "source": [
        "args = AttrDict({ \n",
        "    'cuda' : True, # use cuda\n",
        "    'threads' : 2, # 'number of threads'\n",
        "    'ngpu' : 1, # 'number of GPUs to use for each rank, useful for data parallel evaluation\n",
        "\n",
        "    # direction parameters\n",
        "    'dir_type' : 'weights', #'direction type: weights | states (including BN\\'s running_mean/var)'\n",
        "})"
      ]
    },
    {
      "cell_type": "code",
      "execution_count": null,
      "metadata": {
        "id": "ca77ldes_ony"
      },
      "outputs": [],
      "source": [
        "if True :\n",
        "    dataloader = data_module.train_dataloader()\n",
        "    data_size = len(data_module.train_dataset)\n",
        "else :\n",
        "    dataloader = data_module.val_dataloader()\n",
        "    data_size = len(data_module.val_dataset)"
      ]
    },
    {
      "cell_type": "code",
      "execution_count": null,
      "metadata": {
        "id": "FMlxFPCAFPAn"
      },
      "outputs": [],
      "source": [
        "selected_epochs = good_epochs + []\n",
        "print(selected_epochs)"
      ]
    },
    {
      "cell_type": "code",
      "execution_count": null,
      "metadata": {
        "id": "Pmuo9_YaHUEo"
      },
      "outputs": [],
      "source": [
        "selected_epochs = list(range(0, 150+1, 5)) + list(range(150, 600+1, 2))"
      ]
    },
    {
      "cell_type": "code",
      "execution_count": null,
      "metadata": {
        "id": "E1N7oHoRG5Ik"
      },
      "outputs": [],
      "source": [
        "selected_epochs = sorted(list(dict.fromkeys(selected_epochs)))\n",
        "tmp_model_files = [model_files[e] for e in selected_epochs]"
      ]
    },
    {
      "cell_type": "code",
      "execution_count": null,
      "metadata": {
        "id": "4R_gY7JqAD3P"
      },
      "outputs": [],
      "source": [
        "min_eig, max_eig = plot_hessian_eigen_models(\n",
        "    args, \n",
        "    tmp_model_files,\n",
        "    lightning_module_class, dataloader, data_size, get_loss) "
      ]
    },
    {
      "cell_type": "code",
      "execution_count": null,
      "metadata": {
        "id": "ei7wqhwAHmOk"
      },
      "outputs": [],
      "source": [
        "phases_k = ['pre_memo_epoch', 'pre_comp_epoch', 'memo_epoch', 'comp_epoch']\n",
        "phases = { k : states[k] for k in phases_k}"
      ]
    },
    {
      "cell_type": "code",
      "execution_count": null,
      "metadata": {
        "id": "AHqGC8XHAKOp"
      },
      "outputs": [],
      "source": [
        "# plotting the given graph\n",
        "L, C = 1, 3\n",
        "figsize=(5*C, 4*L)\n",
        "fig, (ax1, ax2, ax3) = plt.subplots(L, C, sharex=False, sharey=False, figsize = figsize)\n",
        "\n",
        "ax1.plot(selected_epochs, min_eig, \n",
        "#        marker = \"+\", markersize = 15, color = \"red\",\n",
        "         label = \"λ_min\"\n",
        ")\n",
        "ax2.plot(selected_epochs, max_eig, \n",
        "#        marker = \".\", markersize = 15, color = \"green\",\n",
        "        label = \"λ_max\"\n",
        ")\n",
        "ax3.plot(\n",
        "#ax3.semilogy(    \n",
        "    selected_epochs, \n",
        "    [a/b for a, b in zip(max_eig, min_eig)],\n",
        "    #[abs(a/b) for a, b in zip(max_eig, min_eig)], \n",
        "#    marker = \"o\", markersize = 15, color = \"black\",\n",
        "    label = \"λ_max/λ_min\"\n",
        ")\n",
        "\n",
        "# plot with grid\n",
        "#plt.grid(True)\n",
        "for ax in [ax1, ax2, ax3] : ax.grid(True)\n",
        "\n",
        "if phases is not None :\n",
        "    colors = [\"b\", 'r', 'g', 'y']\n",
        "    labels = {\n",
        "        'pre_memo_epoch' : 'train_acc~5%', \n",
        "        'pre_comp_epoch' : 'val_acc~5%', \n",
        "        'memo_epoch' : 'train_acc~99%', \n",
        "        'comp_epoch' : 'val_acc~99%'\n",
        "    }\n",
        "    assert set(phases.keys()).issubset(set(labels.keys()))\n",
        "    for i, k in enumerate(phases.keys()) :\n",
        "        for ax in [ax1, ax2, ax3] :\n",
        "            ax.axvline(x = phases[k], color = colors[i], label = labels[k])\n",
        "\n",
        "for ax, ylabel in zip([ax1, ax2, ax3], [\"λ_min\", \"λ_max\", \"λ_min/λ_max\"]) :\n",
        "    ax.set(xlabel='epochs', \n",
        "           #ylabel=ylabel\n",
        "    )\n",
        "    ax.legend()\n",
        "\n",
        "# show the plot\n",
        "plt.show()"
      ]
    },
    {
      "cell_type": "code",
      "execution_count": null,
      "metadata": {
        "id": "D-tNWALyK2Qf"
      },
      "outputs": [],
      "source": [
        "torch.save([min_eig, max_eig], \"/content/eigens.pt\")"
      ]
    },
    {
      "cell_type": "markdown",
      "metadata": {
        "id": "C-dTxvkZdxwW"
      },
      "source": [
        "\n",
        "\n",
        "---\n",
        "\n"
      ]
    }
  ],
  "metadata": {
    "accelerator": "GPU",
    "colab": {
      "collapsed_sections": [],
      "include_colab_link": true,
      "private_outputs": true,
      "provenance": [],
      "toc_visible": true
    },
    "gpuClass": "standard",
    "kernelspec": {
      "display_name": "Python 3",
      "name": "python3"
    },
    "language_info": {
      "name": "python"
    }
  },
  "nbformat": 4,
  "nbformat_minor": 0
}
